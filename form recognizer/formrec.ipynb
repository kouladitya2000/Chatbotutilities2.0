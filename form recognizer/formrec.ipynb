{
 "cells": [
  {
   "cell_type": "code",
   "execution_count": 1,
   "metadata": {},
   "outputs": [],
   "source": [
    "import helper\n",
    "from azure.storage.blob import BlobServiceClient\n",
    "import os"
   ]
  },
  {
   "cell_type": "code",
   "execution_count": 2,
   "metadata": {},
   "outputs": [],
   "source": [
    "\n",
    "STORAGEACCOUNTURL = \"https://demodocstoragetranslator.blob.core.windows.net\"\n",
    "STORAGEACCOUNTKEY = \"cr4tK/oThygMWmBm3YvfuSxIwj8aMiMPiF+jz27xwpQTPDJxmi8LZe7UxrqsgXcd8Ggtnl/6KrdF+AStMqVAEQ==\"\n",
    "CONTAINERNAME = \"source\"\n",
    "BLOBNAME = \"Aditya'sResume.pdf\"\n",
    "path = \"C:\\\\Users\\\\acer\\\\OneDrive\\\\Desktop\\\\upload\\\\form recognizer\\\\\"\n",
    "downloaded_file_path = os.path.join(path,BLOBNAME)\n"
   ]
  },
  {
   "cell_type": "code",
   "execution_count": 3,
   "metadata": {},
   "outputs": [
    {
     "data": {
      "text/plain": [
       "\"file downloaded and saved to C:\\\\Users\\\\acer\\\\OneDrive\\\\Desktop\\\\upload\\\\form recognizer\\\\Aditya'sResume.pdf\""
      ]
     },
     "execution_count": 3,
     "metadata": {},
     "output_type": "execute_result"
    }
   ],
   "source": [
    "helper.download_blob(STORAGEACCOUNTURL,STORAGEACCOUNTKEY,CONTAINERNAME,BLOBNAME,path)"
   ]
  },
  {
   "cell_type": "code",
   "execution_count": 4,
   "metadata": {},
   "outputs": [],
   "source": [
    "endpoint = \"https://formrecogdemo.cognitiveservices.azure.com/\"\n",
    "key = \"da47721b0f284777926730dd887544a5\"\n",
    "\n"
   ]
  },
  {
   "cell_type": "code",
   "execution_count": 5,
   "metadata": {},
   "outputs": [
    {
     "name": "stdout",
     "output_type": "stream",
     "text": [
      "----Key-value pairs found in document----\n",
      "Key 'Hobbies:': Value: '· Singing\n",
      "· Playing badminton, basketball and cricket.\n",
      "· Listening to music and playing guitar.\n",
      "· Playing chess'\n",
      "Key 'Date of Birth :': Value: '08 October 2000'\n",
      "Key 'Parents Name :': Value: 'Mrs. Renu Koul\n",
      "Mr. Satish Koul'\n",
      "Key '· Language known :': Value: 'Hindi, English, Kashmiri'\n",
      "Key 'Date:': Value: '01/12/2020'\n",
      "Key 'Place:': Value: 'Dehradun (Uttarakhand)\n",
      "Aditya Koul'\n",
      "----Text extracted from the document----\n",
      "Line: 'Aditya Koul'\n",
      "Line: 'Park Avenue, Lane C-13, Turner Road, Dehradun(Uttarakhand),248001'\n",
      "Line: '+91 7668420656'\n",
      "Line: 'kouladitya2000@gmail.com'\n",
      "Line: 'Career Objective:'\n",
      "Line: 'Secure a challenging position in a reputable organization to expand my learnings,'\n",
      "Line: 'knowledge, and skills. Secure a responsible career opportunity to fully utilize my training'\n",
      "Line: 'and skills, while making a significant contribution to the success of the company.'\n",
      "Line: 'Educational Qualifications:'\n",
      "Line: '· Pursuing Bachelors of Technology in Computer Science and Engineering from'\n",
      "Line: 'Graphic Era Hill University (2018-22).'\n",
      "Line: '· Intermediate from Doon International School in 2018 from CBSE.'\n",
      "Line: '. Highschool from St. Mary's School in 2016 from CBSE.'\n",
      "Line: 'Technical Knowledge Purview:'\n",
      "Line: '· Programming Languages'\n",
      "Line: ': C, C++,Python, SQL'\n",
      "Line: '· Web Technology'\n",
      "Line: ': HTML, CSS'\n",
      "Line: '· IDE Tools'\n",
      "Line: ': Eclipse, Pycharm , VS ,Dev C++'\n",
      "Line: '· DBMS'\n",
      "Line: ': Oracle, MySQL, MongoDB'\n",
      "Line: '· Operating System'\n",
      "Line: ': Windows, Linux'\n",
      "Line: 'Technical Certification:'\n",
      "Line: '· Cisco Certified Networking Associate.'\n",
      "Line: '· Networking essentials by Cisco.'\n",
      "Line: '. IoT: Basics of IOT and its functioning.'\n",
      "Line: '. Web Development from w3school.'\n",
      "Line: '· Improving my 'HackerRank' profile not only in problem solving but'\n",
      "Line: 'also in Programming Languages.'\n",
      "Line: '· Design and Analysis of Algorithm from Udemy.'\n",
      "Line: 'Technical Projects Undertaken:'\n",
      "Line: 'A)'\n",
      "Line: '· Jarvis Assistant'\n",
      "Line: '· Description'\n",
      "Line: '· Language Used'\n",
      "Line: '· Key Learning'\n",
      "Line: ': Contactless prescription.'\n",
      "Line: ': This virtual assistant is especially made for doctors'\n",
      "Line: 'and was able to write prescription, convert it into'\n",
      "Line: '.pdf format and automatically send it to patient's'\n",
      "Line: 'Email-Id. Hence allowing doctors avoid physical'\n",
      "Line: 'contact with the patient, ultimately reducing the'\n",
      "Line: 'risk of Covid-19.'\n",
      "Line: ': Python'\n",
      "Line: ': Use of various python libraries to model a real'\n",
      "Line: 'world problem.'\n",
      "Line: 'Co-Curricular Activities:'\n",
      "Line: '· Consistent performer as a vocalist and musician in university events.'\n",
      "Line: '· Youtube.'\n",
      "Line: '· Debate and speech.'\n",
      "Line: 'Achievements:'\n",
      "Line: '· Winner of Grafest in singing category. (2019)'\n",
      "Line: '· Secured 1st position in inter-school debate competition. (2017)'\n",
      "Line: 'Strengths:'\n",
      "Line: '· Orator'\n",
      "Line: '· Conscious listener'\n",
      "Line: '· Optimist'\n",
      "Line: '· Leadership skills'\n",
      "Line: '· Calm and patient'\n",
      "Line: '· Team spirit'\n",
      "Line: '· Quick-witted'\n",
      "Line: 'Hobbies:'\n",
      "Line: '· Singing'\n",
      "Line: '· Playing badminton, basketball and cricket.'\n",
      "Line: '· Listening to music and playing guitar.'\n",
      "Line: '· Playing chess'\n",
      "Line: 'Personal Details:'\n",
      "Line: '· Date of Birth'\n",
      "Line: ': 08 October 2000'\n",
      "Line: '· Parents Name'\n",
      "Line: ': Mrs. Renu Koul'\n",
      "Line: 'Mr. Satish Koul'\n",
      "Line: '· Language known : Hindi, English, Kashmiri'\n",
      "Line: 'Date: 01/12/2020'\n",
      "Line: 'Place: Dehradun (Uttarakhand)'\n",
      "Line: 'Aditya Koul'\n"
     ]
    }
   ],
   "source": [
    "analysis_results = helper.analyze_document(endpoint, key, downloaded_file_path)\n",
    "\n",
    "if \"error\" in analysis_results:\n",
    "    print(\"An error occurred:\", analysis_results[\"error\"])\n",
    "else:\n",
    "    print(\"----Key-value pairs found in document----\")\n",
    "    for kv_pair in analysis_results[\"key_value_pairs\"]:\n",
    "        print(\"Key '{}': Value: '{}'\".format(kv_pair[\"key\"], kv_pair[\"value\"]))\n",
    "\n",
    "    print(\"----Text extracted from the document----\")\n",
    "    for text in analysis_results[\"text_extracted\"]:\n",
    "        print(\"Line: '{}'\".format(text))"
   ]
  },
  {
   "cell_type": "code",
   "execution_count": null,
   "metadata": {},
   "outputs": [],
   "source": [
    "\n"
   ]
  }
 ],
 "metadata": {
  "kernelspec": {
   "display_name": "Python 3",
   "language": "python",
   "name": "python3"
  },
  "language_info": {
   "codemirror_mode": {
    "name": "ipython",
    "version": 3
   },
   "file_extension": ".py",
   "mimetype": "text/x-python",
   "name": "python",
   "nbconvert_exporter": "python",
   "pygments_lexer": "ipython3",
   "version": "3.11.4"
  },
  "orig_nbformat": 4
 },
 "nbformat": 4,
 "nbformat_minor": 2
}
